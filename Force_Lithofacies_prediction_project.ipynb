{
  "nbformat": 4,
  "nbformat_minor": 0,
  "metadata": {
    "colab": {
      "name": "Force_Lithofacies_prediction_project.ipynb",
      "provenance": [],
      "collapsed_sections": []
    },
    "kernelspec": {
      "name": "python3",
      "display_name": "Python 3"
    }
  },
  "cells": [
    {
      "cell_type": "code",
      "metadata": {
        "id": "63v73hja3FKn"
      },
      "source": [
        "import numpy as np\r\n",
        "import pandas as pd\r\n",
        "import random\r\n",
        "from random import randint\r\n",
        "from sklearn.utils import shuffle\r\n",
        "import matplotlib.pyplot as plt\r\n",
        "import seaborn as sns\r\n",
        "\r\n",
        "random.seed()\r\n",
        "\r\n",
        "from tensorflow import keras\r\n",
        "from tensorflow.keras.models import Sequential\r\n",
        "from tensorflow.keras.layers import Activation,Dense,BatchNormalization\r\n",
        "from tensorflow.keras.optimizers import Adam, SGD\r\n",
        "from tensorflow.keras.metrics import categorical_crossentropy\r\n",
        "from sklearn.model_selection import train_test_split"
      ],
      "execution_count": 1,
      "outputs": []
    },
    {
      "cell_type": "code",
      "metadata": {
        "id": "JF8CKM0n4u_T"
      },
      "source": [
        "data = pd.read_csv('/content/drive/MyDrive/Force_2020/train.csv')"
      ],
      "execution_count": 2,
      "outputs": []
    },
    {
      "cell_type": "code",
      "metadata": {
        "colab": {
          "base_uri": "https://localhost:8080/",
          "height": 394
        },
        "id": "oMzMrXTj5A1i",
        "outputId": "f64e08e3-3e1e-49b7-fac7-65ba91b55599"
      },
      "source": [
        "data.head()"
      ],
      "execution_count": 3,
      "outputs": [
        {
          "output_type": "execute_result",
          "data": {
            "text/html": [
              "<div>\n",
              "<style scoped>\n",
              "    .dataframe tbody tr th:only-of-type {\n",
              "        vertical-align: middle;\n",
              "    }\n",
              "\n",
              "    .dataframe tbody tr th {\n",
              "        vertical-align: top;\n",
              "    }\n",
              "\n",
              "    .dataframe thead th {\n",
              "        text-align: right;\n",
              "    }\n",
              "</style>\n",
              "<table border=\"1\" class=\"dataframe\">\n",
              "  <thead>\n",
              "    <tr style=\"text-align: right;\">\n",
              "      <th></th>\n",
              "      <th>WELL</th>\n",
              "      <th>DEPTH_MD</th>\n",
              "      <th>X_LOC</th>\n",
              "      <th>Y_LOC</th>\n",
              "      <th>Z_LOC</th>\n",
              "      <th>GROUP</th>\n",
              "      <th>FORMATION</th>\n",
              "      <th>CALI</th>\n",
              "      <th>RSHA</th>\n",
              "      <th>RMED</th>\n",
              "      <th>RDEP</th>\n",
              "      <th>RHOB</th>\n",
              "      <th>GR</th>\n",
              "      <th>SGR</th>\n",
              "      <th>NPHI</th>\n",
              "      <th>PEF</th>\n",
              "      <th>DTC</th>\n",
              "      <th>SP</th>\n",
              "      <th>BS</th>\n",
              "      <th>ROP</th>\n",
              "      <th>DTS</th>\n",
              "      <th>DCAL</th>\n",
              "      <th>DRHO</th>\n",
              "      <th>MUDWEIGHT</th>\n",
              "      <th>RMIC</th>\n",
              "      <th>ROPA</th>\n",
              "      <th>RXO</th>\n",
              "      <th>FORCE_2020_LITHOFACIES_LITHOLOGY</th>\n",
              "      <th>FORCE_2020_LITHOFACIES_CONFIDENCE</th>\n",
              "    </tr>\n",
              "  </thead>\n",
              "  <tbody>\n",
              "    <tr>\n",
              "      <th>0</th>\n",
              "      <td>15-09-2013</td>\n",
              "      <td>494.528</td>\n",
              "      <td>437641.9688</td>\n",
              "      <td>6470972.5</td>\n",
              "      <td>-469.501831</td>\n",
              "      <td>NORDLAND GP.</td>\n",
              "      <td>NaN</td>\n",
              "      <td>19.480835</td>\n",
              "      <td>NaN</td>\n",
              "      <td>1.611410</td>\n",
              "      <td>1.798681</td>\n",
              "      <td>1.884186</td>\n",
              "      <td>80.200851</td>\n",
              "      <td>NaN</td>\n",
              "      <td>NaN</td>\n",
              "      <td>20.915468</td>\n",
              "      <td>161.131180</td>\n",
              "      <td>24.612379</td>\n",
              "      <td>NaN</td>\n",
              "      <td>34.636410</td>\n",
              "      <td>NaN</td>\n",
              "      <td>NaN</td>\n",
              "      <td>-0.574928</td>\n",
              "      <td>NaN</td>\n",
              "      <td>NaN</td>\n",
              "      <td>NaN</td>\n",
              "      <td>NaN</td>\n",
              "      <td>65000</td>\n",
              "      <td>1.0</td>\n",
              "    </tr>\n",
              "    <tr>\n",
              "      <th>1</th>\n",
              "      <td>15-09-2013</td>\n",
              "      <td>494.680</td>\n",
              "      <td>437641.9688</td>\n",
              "      <td>6470972.5</td>\n",
              "      <td>-469.653809</td>\n",
              "      <td>NORDLAND GP.</td>\n",
              "      <td>NaN</td>\n",
              "      <td>19.468800</td>\n",
              "      <td>NaN</td>\n",
              "      <td>1.618070</td>\n",
              "      <td>1.795641</td>\n",
              "      <td>1.889794</td>\n",
              "      <td>79.262886</td>\n",
              "      <td>NaN</td>\n",
              "      <td>NaN</td>\n",
              "      <td>19.383013</td>\n",
              "      <td>160.603470</td>\n",
              "      <td>23.895531</td>\n",
              "      <td>NaN</td>\n",
              "      <td>34.636410</td>\n",
              "      <td>NaN</td>\n",
              "      <td>NaN</td>\n",
              "      <td>-0.570188</td>\n",
              "      <td>NaN</td>\n",
              "      <td>NaN</td>\n",
              "      <td>NaN</td>\n",
              "      <td>NaN</td>\n",
              "      <td>65000</td>\n",
              "      <td>1.0</td>\n",
              "    </tr>\n",
              "    <tr>\n",
              "      <th>2</th>\n",
              "      <td>15-09-2013</td>\n",
              "      <td>494.832</td>\n",
              "      <td>437641.9688</td>\n",
              "      <td>6470972.5</td>\n",
              "      <td>-469.805786</td>\n",
              "      <td>NORDLAND GP.</td>\n",
              "      <td>NaN</td>\n",
              "      <td>19.468800</td>\n",
              "      <td>NaN</td>\n",
              "      <td>1.626459</td>\n",
              "      <td>1.800733</td>\n",
              "      <td>1.896523</td>\n",
              "      <td>74.821999</td>\n",
              "      <td>NaN</td>\n",
              "      <td>NaN</td>\n",
              "      <td>22.591518</td>\n",
              "      <td>160.173615</td>\n",
              "      <td>23.916357</td>\n",
              "      <td>NaN</td>\n",
              "      <td>34.779556</td>\n",
              "      <td>NaN</td>\n",
              "      <td>NaN</td>\n",
              "      <td>-0.574245</td>\n",
              "      <td>NaN</td>\n",
              "      <td>NaN</td>\n",
              "      <td>NaN</td>\n",
              "      <td>NaN</td>\n",
              "      <td>65000</td>\n",
              "      <td>1.0</td>\n",
              "    </tr>\n",
              "    <tr>\n",
              "      <th>3</th>\n",
              "      <td>15-09-2013</td>\n",
              "      <td>494.984</td>\n",
              "      <td>437641.9688</td>\n",
              "      <td>6470972.5</td>\n",
              "      <td>-469.957794</td>\n",
              "      <td>NORDLAND GP.</td>\n",
              "      <td>NaN</td>\n",
              "      <td>19.459282</td>\n",
              "      <td>NaN</td>\n",
              "      <td>1.621594</td>\n",
              "      <td>1.801517</td>\n",
              "      <td>1.891913</td>\n",
              "      <td>72.878922</td>\n",
              "      <td>NaN</td>\n",
              "      <td>NaN</td>\n",
              "      <td>32.191910</td>\n",
              "      <td>160.149429</td>\n",
              "      <td>23.793688</td>\n",
              "      <td>NaN</td>\n",
              "      <td>39.965164</td>\n",
              "      <td>NaN</td>\n",
              "      <td>NaN</td>\n",
              "      <td>-0.586315</td>\n",
              "      <td>NaN</td>\n",
              "      <td>NaN</td>\n",
              "      <td>NaN</td>\n",
              "      <td>NaN</td>\n",
              "      <td>65000</td>\n",
              "      <td>1.0</td>\n",
              "    </tr>\n",
              "    <tr>\n",
              "      <th>4</th>\n",
              "      <td>15-09-2013</td>\n",
              "      <td>495.136</td>\n",
              "      <td>437641.9688</td>\n",
              "      <td>6470972.5</td>\n",
              "      <td>-470.109772</td>\n",
              "      <td>NORDLAND GP.</td>\n",
              "      <td>NaN</td>\n",
              "      <td>19.453100</td>\n",
              "      <td>NaN</td>\n",
              "      <td>1.602679</td>\n",
              "      <td>1.795299</td>\n",
              "      <td>1.880034</td>\n",
              "      <td>71.729141</td>\n",
              "      <td>NaN</td>\n",
              "      <td>NaN</td>\n",
              "      <td>38.495632</td>\n",
              "      <td>160.128342</td>\n",
              "      <td>24.104078</td>\n",
              "      <td>NaN</td>\n",
              "      <td>57.483765</td>\n",
              "      <td>NaN</td>\n",
              "      <td>NaN</td>\n",
              "      <td>-0.597914</td>\n",
              "      <td>NaN</td>\n",
              "      <td>NaN</td>\n",
              "      <td>NaN</td>\n",
              "      <td>NaN</td>\n",
              "      <td>65000</td>\n",
              "      <td>1.0</td>\n",
              "    </tr>\n",
              "  </tbody>\n",
              "</table>\n",
              "</div>"
            ],
            "text/plain": [
              "         WELL  ...  FORCE_2020_LITHOFACIES_CONFIDENCE\n",
              "0  15-09-2013  ...                                1.0\n",
              "1  15-09-2013  ...                                1.0\n",
              "2  15-09-2013  ...                                1.0\n",
              "3  15-09-2013  ...                                1.0\n",
              "4  15-09-2013  ...                                1.0\n",
              "\n",
              "[5 rows x 29 columns]"
            ]
          },
          "metadata": {
            "tags": []
          },
          "execution_count": 3
        }
      ]
    },
    {
      "cell_type": "code",
      "metadata": {
        "colab": {
          "base_uri": "https://localhost:8080/"
        },
        "id": "LxIPlwXi85MI",
        "outputId": "5f5ec20d-1f0a-412a-cd45-eeed89f6b7cf"
      },
      "source": [
        "data.shape"
      ],
      "execution_count": 4,
      "outputs": [
        {
          "output_type": "execute_result",
          "data": {
            "text/plain": [
              "(1048575, 29)"
            ]
          },
          "metadata": {
            "tags": []
          },
          "execution_count": 4
        }
      ]
    },
    {
      "cell_type": "markdown",
      "metadata": {
        "id": "PfOym2Lt5ZZO"
      },
      "source": [
        "The data contains the following columns\r\n",
        "\r\n",
        "- WELL: well name\r\n",
        "- DEPTH_MD: measured depth\r\n",
        "- X_LOC: UTM X coordinate\r\n",
        "- Y_LOC: UTM Y coordinate\r\n",
        "- Z_LOC: DEPTH\r\n",
        "- GROUP: NPD lithostratigraphy group\r\n",
        "- FORMATION: NPD lithostratgraphy formation\r\n",
        "- The data contains the well log curves. For example the following:\r\n",
        "\r\n",
        "- BS: Bit Size\r\n",
        "- CALI: Caliper\r\n",
        "- RDEP: Deep Resistivity\r\n",
        "- RHOB: Bulk Density\r\n",
        "- GR: Raw gamma data\r\n",
        "- SGR: Spectral Gamma Ray\r\n",
        "- RMED: Medium Resistivity\r\n",
        "- ROP: Rate of Penetration\r\n",
        "- NPHI: Neutron Porosity\r\n",
        "- PEF: Photoelectric Absorption Factor\r\n",
        "- RSHA: Shallow Resistivity\r\n",
        "- DTS: Sonic (Sheer Slowness)\r\n",
        "- DTC: Sonic (Compressional Slowness)\r\n",
        "\r\n",
        "\r\n",
        " as well as the interpretation\r\n",
        "\r\n",
        "- FORCE_2020_LITHOFACIES_LITHOLOGY: lithology class label\r\n",
        "- FORCE_2020_LITHOFACIES_CONFIDENCE: confidence in lithology interpretation  (1: high, 2: medium, 3: low)"
      ]
    },
    {
      "cell_type": "code",
      "metadata": {
        "colab": {
          "base_uri": "https://localhost:8080/"
        },
        "id": "1_6fp4Hi5HlY",
        "outputId": "dee23fa1-79d0-42de-98ee-4c2e25922bed"
      },
      "source": [
        "wells = data['WELL'].unique()\r\n",
        "wells"
      ],
      "execution_count": 5,
      "outputs": [
        {
          "output_type": "execute_result",
          "data": {
            "text/plain": [
              "array(['15-09-2013', '15-09-2015', '15-09-2017', '16-01-2002', '16/1-6 A',\n",
              "       '16-10-2001', '16-10-2002', '16-10-2003', '16-10-2005',\n",
              "       '16/11-1 ST3', '16/2-11 A', '16-02-2016', '16-02-2006',\n",
              "       '16-04-2001', '16-05-2003', '16-07-2004', '16-07-2005',\n",
              "       '16-08-2001', '17-11-2001', '25-11-2015', '25/11-19 S',\n",
              "       '25-11-2005', '25/2-13 T4', '25-02-2014', '25-02-2007',\n",
              "       '25-03-2001', '25-04-2005', '25-05-2001', '25-05-2004',\n",
              "       '25-06-2001', '25-06-2002', '25-06-2003', '25-07-2002', '25/8-5 S',\n",
              "       '25-08-2007', '25-09-2001', '26-04-2001', '29-06-2001',\n",
              "       '30-03-2003', '30/3-5 S', '30-06-2005', '31/2-1', '31/2-19 S',\n",
              "       '31/2-7', '31/2-8', '31/2-9', '31-03-2001', '31-03-2002',\n",
              "       '31-03-2003', '31-03-2004', '31/4-10', '31/4-5', '31/5-4 S',\n",
              "       '31/6-5', '31/6-8', '32/2-1', '33/5-2', '33/6-3 S', '33/9-1',\n",
              "       '33/9-17', '34/10-19', '34/10-21', '34/10-33', '34/10-35',\n",
              "       '34/11-1', '34/11-2 S', '34/12-1', '34/2-4', '34/3-1 A',\n",
              "       '34/4-10 R', '34/5-1 A', '34/5-1 S', '34/7-13', '34/7-20',\n",
              "       '34/7-21', '34/8-1', '34/8-3', '34/8-7 R', '35/11-1', '35/11-10',\n",
              "       '35/11-11', '35/11-12', '35/11-13', '35/11-15 S', '35/11-6',\n",
              "       '35/11-7'], dtype=object)"
            ]
          },
          "metadata": {
            "tags": []
          },
          "execution_count": 5
        }
      ]
    },
    {
      "cell_type": "code",
      "metadata": {
        "colab": {
          "base_uri": "https://localhost:8080/"
        },
        "id": "llTndaCK6Z6v",
        "outputId": "572a2dd0-6bcc-4ff9-be8d-3b10c587792b"
      },
      "source": [
        "data['FORCE_2020_LITHOFACIES_LITHOLOGY'].unique()"
      ],
      "execution_count": 6,
      "outputs": [
        {
          "output_type": "execute_result",
          "data": {
            "text/plain": [
              "array([65000, 30000, 65030, 70000, 99000, 80000, 86000, 74000, 70032,\n",
              "       90000, 88000, 93000])"
            ]
          },
          "metadata": {
            "tags": []
          },
          "execution_count": 6
        }
      ]
    },
    {
      "cell_type": "markdown",
      "metadata": {
        "id": "cDF6PyQa75mc"
      },
      "source": [
        "Lithology column is not equally distributed"
      ]
    },
    {
      "cell_type": "code",
      "metadata": {
        "id": "Z30VKs5q8EAG"
      },
      "source": [
        "lithology_keys = {30000: 'Sandstone',\r\n",
        "                 65030: 'Sandstone/Shale',\r\n",
        "                 65000: 'Shale',\r\n",
        "                 80000: 'Marl',\r\n",
        "                 74000: 'Dolomite',\r\n",
        "                 70000: 'Limestone',\r\n",
        "                 70032: 'Chalk',\r\n",
        "                 88000: 'Halite',\r\n",
        "                 86000: 'Anhydrite',\r\n",
        "                 99000: 'Tuff',\r\n",
        "                 90000: 'Coal',\r\n",
        "                 93000: 'Basement'}"
      ],
      "execution_count": 7,
      "outputs": []
    },
    {
      "cell_type": "code",
      "metadata": {
        "colab": {
          "base_uri": "https://localhost:8080/",
          "height": 502
        },
        "id": "R2pGLQkX6jXZ",
        "outputId": "9bc9d94b-2817-4fdb-c530-f08bcfbbc3b5"
      },
      "source": [
        "counts = data['FORCE_2020_LITHOFACIES_LITHOLOGY'].value_counts()\r\n",
        "names = []\r\n",
        "percentage = []\r\n",
        "N = data['FORCE_2020_LITHOFACIES_LITHOLOGY'].shape[0]\r\n",
        "for item in counts.iteritems():\r\n",
        "    names.append(lithology_keys[item[0]])\r\n",
        "    percentage.append(float(item[1])/N*100)\r\n",
        "fig, ax = plt.subplots(1, 1, figsize=(14, 7))\r\n",
        "ax.bar(x=np.arange(len(names)), height=percentage)\r\n",
        "ax.set_xticklabels(names, rotation=45)\r\n",
        "ax.set_xticks(np.arange(len(names)))\r\n",
        "ax.set_ylabel('Lithology presence (\\%)')"
      ],
      "execution_count": 8,
      "outputs": [
        {
          "output_type": "execute_result",
          "data": {
            "text/plain": [
              "Text(0, 0.5, 'Lithology presence (\\\\%)')"
            ]
          },
          "metadata": {
            "tags": []
          },
          "execution_count": 8
        },
        {
          "output_type": "display_data",
          "data": {
            "image/png": "[encoded data removed]",
            "text/plain": [
              "<Figure size 1008x504 with 1 Axes>"
            ]
          },
          "metadata": {
            "tags": [],
            "needs_background": "light"
          }
        }
      ]
    },
    {
      "cell_type": "markdown",
      "metadata": {
        "id": "jcVNOjmN8hkU"
      },
      "source": [
        "# Checking missing values"
      ]
    },
    {
      "cell_type": "code",
      "metadata": {
        "colab": {
          "base_uri": "https://localhost:8080/"
        },
        "id": "G1BReqwD7_5J",
        "outputId": "d621e879-9a0b-410a-e8b8-a03095981e1a"
      },
      "source": [
        "data.isna().sum().sort_values(ascending = False)"
      ],
      "execution_count": 9,
      "outputs": [
        {
          "output_type": "execute_result",
          "data": {
            "text/plain": [
              "SGR                                  985677\n",
              "RMIC                                 913036\n",
              "DTS                                  912421\n",
              "ROPA                                 902089\n",
              "DCAL                                 778296\n",
              "MUDWEIGHT                            748117\n",
              "RXO                                  736465\n",
              "ROP                                  578569\n",
              "BS                                   471132\n",
              "RSHA                                 460853\n",
              "PEF                                  459442\n",
              "NPHI                                 378574\n",
              "SP                                   234986\n",
              "DRHO                                 166200\n",
              "RHOB                                 146405\n",
              "FORMATION                            123260\n",
              "CALI                                  81504\n",
              "DTC                                   53992\n",
              "RMED                                  38174\n",
              "RDEP                                  10770\n",
              "Y_LOC                                 10561\n",
              "X_LOC                                 10561\n",
              "Z_LOC                                 10561\n",
              "GROUP                                  1278\n",
              "FORCE_2020_LITHOFACIES_CONFIDENCE       135\n",
              "GR                                        0\n",
              "FORCE_2020_LITHOFACIES_LITHOLOGY          0\n",
              "DEPTH_MD                                  0\n",
              "WELL                                      0\n",
              "dtype: int64"
            ]
          },
          "metadata": {
            "tags": []
          },
          "execution_count": 9
        }
      ]
    },
    {
      "cell_type": "markdown",
      "metadata": {
        "id": "r_DFZxnp9tsE"
      },
      "source": [
        "# Plotting coorelation heatmap"
      ]
    },
    {
      "cell_type": "markdown",
      "metadata": {
        "id": "lpS4NiFaBGYP"
      },
      "source": [
        "After dropping the columns which has high missing values"
      ]
    },
    {
      "cell_type": "code",
      "metadata": {
        "id": "f961CV588vpa"
      },
      "source": [
        "X1 = data\r\n",
        "X1 = X1.drop('WELL', axis = 1)\r\n",
        "X1 = X1.drop('GROUP',axis = 1)\r\n",
        "X1 = X1.drop('FORMATION',axis = 1)\r\n",
        "X1 = X1.drop('RMIC', axis =1)\r\n",
        "X1 = X1.drop('DTS', axis =1)\r\n",
        "X1 = X1.drop('ROPA', axis =1)\r\n",
        "X1 = X1.drop('RXO', axis =1)\r\n",
        "X1 = X1.drop('MUDWEIGHT', axis =1)\r\n",
        "X1 = X1.drop('DCAL', axis =1)"
      ],
      "execution_count": 10,
      "outputs": []
    },
    {
      "cell_type": "code",
      "metadata": {
        "colab": {
          "base_uri": "https://localhost:8080/",
          "height": 1000
        },
        "id": "OPkmlsSOBaia",
        "outputId": "55162c17-671a-4345-ec28-11c12610bbd0"
      },
      "source": [
        "fig, ax = plt.subplots(figsize=(20,20))\r\n",
        "matrix = np.tril(X1.corr())\r\n",
        "sns.heatmap(X1.corr(), annot = True,  linewidths=1, ax=ax, fmt='.1g', cmap= 'coolwarm',linecolor='black',square=True, mask=matrix)"
      ],
      "execution_count": 11,
      "outputs": [
        {
          "output_type": "execute_result",
          "data": {
            "text/plain": [
              "<matplotlib.axes._subplots.AxesSubplot at 0x7f12702462e8>"
            ]
          },
          "metadata": {
            "tags": []
          },
          "execution_count": 11
        },
        {
          "output_type": "display_data",
          "data": {
            "image/png": "[encoded data removed]",
            "text/plain": [
              "<Figure size 1440x1440 with 2 Axes>"
            ]
          },
          "metadata": {
            "tags": [],
            "needs_background": "light"
          }
        }
      ]
    },
    {
      "cell_type": "markdown",
      "metadata": {
        "id": "lrktXSluCVRu"
      },
      "source": [
        ""
      ]
    },
    {
      "cell_type": "markdown",
      "metadata": {
        "id": "9KzaNLJlCe8p"
      },
      "source": [
        "# Preparing the data for training \r\n",
        "- converting lithology labels to numbers before training\r\n",
        "- removing columns with high missing values\r\n",
        "- removing highly coorelated features\r\n",
        "- filling the missing values with 0\r\n",
        "- shuffling the dataset to prevent overfitting\r\n",
        "- normalizing the dataset\r\n",
        "- reshaping the data as an input for for 1-D CNN\r\n",
        "\r\n"
      ]
    },
    {
      "cell_type": "code",
      "metadata": {
        "id": "N7PbpEKLBh8d"
      },
      "source": [
        "X1 = data\r\n",
        "Y1 = data['FORCE_2020_LITHOFACIES_LITHOLOGY']\r\n",
        "lithology_numbers = {30000: 0,\r\n",
        "                 65030: 1,\r\n",
        "                 65000: 2,\r\n",
        "                 80000: 3,\r\n",
        "                 74000: 4,\r\n",
        "                 70000: 5,\r\n",
        "                 70032: 6,\r\n",
        "                 88000: 7,\r\n",
        "                 86000: 8,\r\n",
        "                 99000: 9,\r\n",
        "                 90000: 10,\r\n",
        "                 93000: 11}\r\n",
        "\r\n",
        "Y1 = Y1.map(lithology_numbers)\r\n",
        "Y1 = pd.DataFrame(Y1)"
      ],
      "execution_count": 12,
      "outputs": []
    },
    {
      "cell_type": "code",
      "metadata": {
        "id": "rS0TR7LODOl5"
      },
      "source": [
        "X1 = X1.drop('FORCE_2020_LITHOFACIES_LITHOLOGY', axis = 1)\r\n",
        "X1 = X1.drop('FORCE_2020_LITHOFACIES_CONFIDENCE', axis = 1)\r\n",
        "X1 = X1.drop('WELL', axis = 1)\r\n",
        "X1 = X1.drop('GROUP',axis = 1)\r\n",
        "X1 = X1.drop('FORMATION',axis = 1)\r\n",
        "X1 = X1.drop('RMIC', axis =1)\r\n",
        "X1 = X1.drop('DTS', axis =1)\r\n",
        "X1 = X1.drop('ROPA', axis =1)\r\n",
        "X1 = X1.drop('RXO', axis =1)\r\n",
        "X1 = X1.drop('MUDWEIGHT', axis =1)\r\n",
        "X1 = X1.drop('DCAL', axis =1)\r\n",
        "\r\n",
        "###\r\n",
        "X1 = X1.drop('BS', axis =1)\r\n",
        "X1 = X1.drop('Z_LOC', axis =1)\r\n",
        "\r\n",
        "\r\n"
      ],
      "execution_count": 13,
      "outputs": []
    },
    {
      "cell_type": "code",
      "metadata": {
        "id": "scsnez7QDeR5"
      },
      "source": [
        "X1.fillna(0, inplace=True)"
      ],
      "execution_count": 14,
      "outputs": []
    },
    {
      "cell_type": "code",
      "metadata": {
        "colab": {
          "base_uri": "https://localhost:8080/",
          "height": 224
        },
        "id": "KqeFXtxcDrKU",
        "outputId": "0db3e480-3908-40fa-d27a-907ffeb7b311"
      },
      "source": [
        "Y1,X1 = shuffle(Y1,X1)\r\n",
        "X1.head()"
      ],
      "execution_count": 15,
      "outputs": [
        {
          "output_type": "execute_result",
          "data": {
            "text/html": [
              "<div>\n",
              "<style scoped>\n",
              "    .dataframe tbody tr th:only-of-type {\n",
              "        vertical-align: middle;\n",
              "    }\n",
              "\n",
              "    .dataframe tbody tr th {\n",
              "        vertical-align: top;\n",
              "    }\n",
              "\n",
              "    .dataframe thead th {\n",
              "        text-align: right;\n",
              "    }\n",
              "</style>\n",
              "<table border=\"1\" class=\"dataframe\">\n",
              "  <thead>\n",
              "    <tr style=\"text-align: right;\">\n",
              "      <th></th>\n",
              "      <th>DEPTH_MD</th>\n",
              "      <th>X_LOC</th>\n",
              "      <th>Y_LOC</th>\n",
              "      <th>CALI</th>\n",
              "      <th>RSHA</th>\n",
              "      <th>RMED</th>\n",
              "      <th>RDEP</th>\n",
              "      <th>RHOB</th>\n",
              "      <th>GR</th>\n",
              "      <th>SGR</th>\n",
              "      <th>NPHI</th>\n",
              "      <th>PEF</th>\n",
              "      <th>DTC</th>\n",
              "      <th>SP</th>\n",
              "      <th>ROP</th>\n",
              "      <th>DRHO</th>\n",
              "    </tr>\n",
              "  </thead>\n",
              "  <tbody>\n",
              "    <tr>\n",
              "      <th>110677</th>\n",
              "      <td>2681.713201</td>\n",
              "      <td>0.0000</td>\n",
              "      <td>0.0</td>\n",
              "      <td>12.341233</td>\n",
              "      <td>0.00000</td>\n",
              "      <td>0.000000</td>\n",
              "      <td>0.000000</td>\n",
              "      <td>0.000000</td>\n",
              "      <td>8.383195</td>\n",
              "      <td>0.0</td>\n",
              "      <td>0.000000</td>\n",
              "      <td>0.000000</td>\n",
              "      <td>68.418266</td>\n",
              "      <td>0.000000</td>\n",
              "      <td>1.331703</td>\n",
              "      <td>0.000000</td>\n",
              "    </tr>\n",
              "    <tr>\n",
              "      <th>120125</th>\n",
              "      <td>1898.739200</td>\n",
              "      <td>475533.5625</td>\n",
              "      <td>6518960.5</td>\n",
              "      <td>13.366172</td>\n",
              "      <td>0.00000</td>\n",
              "      <td>1.241556</td>\n",
              "      <td>1.291423</td>\n",
              "      <td>2.300837</td>\n",
              "      <td>15.662930</td>\n",
              "      <td>0.0</td>\n",
              "      <td>0.287044</td>\n",
              "      <td>6.131105</td>\n",
              "      <td>87.138123</td>\n",
              "      <td>0.000000</td>\n",
              "      <td>9.933854</td>\n",
              "      <td>0.006976</td>\n",
              "    </tr>\n",
              "    <tr>\n",
              "      <th>510726</th>\n",
              "      <td>3015.038000</td>\n",
              "      <td>497358.5000</td>\n",
              "      <td>6737331.0</td>\n",
              "      <td>8.406200</td>\n",
              "      <td>1.37845</td>\n",
              "      <td>1.462368</td>\n",
              "      <td>1.388227</td>\n",
              "      <td>2.282371</td>\n",
              "      <td>16.628637</td>\n",
              "      <td>0.0</td>\n",
              "      <td>0.215300</td>\n",
              "      <td>0.000000</td>\n",
              "      <td>87.087677</td>\n",
              "      <td>15.200000</td>\n",
              "      <td>0.000000</td>\n",
              "      <td>0.000894</td>\n",
              "    </tr>\n",
              "    <tr>\n",
              "      <th>619544</th>\n",
              "      <td>1422.304901</td>\n",
              "      <td>536846.0625</td>\n",
              "      <td>6748636.5</td>\n",
              "      <td>0.000000</td>\n",
              "      <td>0.00000</td>\n",
              "      <td>0.950544</td>\n",
              "      <td>0.949667</td>\n",
              "      <td>2.189772</td>\n",
              "      <td>81.201279</td>\n",
              "      <td>0.0</td>\n",
              "      <td>0.447493</td>\n",
              "      <td>0.000000</td>\n",
              "      <td>136.557358</td>\n",
              "      <td>180.966431</td>\n",
              "      <td>0.000000</td>\n",
              "      <td>0.041917</td>\n",
              "    </tr>\n",
              "    <tr>\n",
              "      <th>1002542</th>\n",
              "      <td>1229.714000</td>\n",
              "      <td>520560.5000</td>\n",
              "      <td>6777354.0</td>\n",
              "      <td>0.000000</td>\n",
              "      <td>0.00000</td>\n",
              "      <td>1.147820</td>\n",
              "      <td>0.957601</td>\n",
              "      <td>0.000000</td>\n",
              "      <td>199.903198</td>\n",
              "      <td>0.0</td>\n",
              "      <td>0.000000</td>\n",
              "      <td>0.000000</td>\n",
              "      <td>0.000000</td>\n",
              "      <td>0.000000</td>\n",
              "      <td>34.281590</td>\n",
              "      <td>0.000000</td>\n",
              "    </tr>\n",
              "  </tbody>\n",
              "</table>\n",
              "</div>"
            ],
            "text/plain": [
              "            DEPTH_MD        X_LOC      Y_LOC  ...          SP        ROP      DRHO\n",
              "110677   2681.713201       0.0000        0.0  ...    0.000000   1.331703  0.000000\n",
              "120125   1898.739200  475533.5625  6518960.5  ...    0.000000   9.933854  0.006976\n",
              "510726   3015.038000  497358.5000  6737331.0  ...   15.200000   0.000000  0.000894\n",
              "619544   1422.304901  536846.0625  6748636.5  ...  180.966431   0.000000  0.041917\n",
              "1002542  1229.714000  520560.5000  6777354.0  ...    0.000000  34.281590  0.000000\n",
              "\n",
              "[5 rows x 16 columns]"
            ]
          },
          "metadata": {
            "tags": []
          },
          "execution_count": 15
        }
      ]
    },
    {
      "cell_type": "code",
      "metadata": {
        "colab": {
          "base_uri": "https://localhost:8080/"
        },
        "id": "0VL-QhTGEB4j",
        "outputId": "c4fe9269-0ce5-4226-849b-2c60850c543f"
      },
      "source": [
        "X1.shape"
      ],
      "execution_count": 16,
      "outputs": [
        {
          "output_type": "execute_result",
          "data": {
            "text/plain": [
              "(1048575, 16)"
            ]
          },
          "metadata": {
            "tags": []
          },
          "execution_count": 16
        }
      ]
    },
    {
      "cell_type": "code",
      "metadata": {
        "id": "cOYlTTdOEER-"
      },
      "source": [
        "from sklearn.preprocessing import StandardScaler\r\n",
        "sc = StandardScaler()"
      ],
      "execution_count": 17,
      "outputs": []
    },
    {
      "cell_type": "code",
      "metadata": {
        "colab": {
          "base_uri": "https://localhost:8080/"
        },
        "id": "bOIhKLIcE6CR",
        "outputId": "a0a53348-5404-4f22-ac8d-2600bb14b822"
      },
      "source": [
        "X1 = sc.fit_transform(X1)\r\n",
        "X1.shape, Y1.shape"
      ],
      "execution_count": 18,
      "outputs": [
        {
          "output_type": "execute_result",
          "data": {
            "text/plain": [
              "((1048575, 16), (1048575, 1))"
            ]
          },
          "metadata": {
            "tags": []
          },
          "execution_count": 18
        }
      ]
    },
    {
      "cell_type": "code",
      "metadata": {
        "colab": {
          "base_uri": "https://localhost:8080/"
        },
        "id": "Q-sxntpHE_pX",
        "outputId": "3d11a8af-5101-4c01-ef83-ba955b6bdf83"
      },
      "source": [
        "X1[0]"
      ],
      "execution_count": 19,
      "outputs": [
        {
          "output_type": "execute_result",
          "data": {
            "text/plain": [
              "array([ 5.44429531e-01, -8.24885914e+00, -9.74723748e+00,  1.61946919e-02,\n",
              "       -7.97332618e-02, -8.37610251e-02, -9.15910224e-02, -2.37744827e+00,\n",
              "       -1.78109207e+00, -2.14310713e-01, -1.11512602e+00, -3.92448907e-01,\n",
              "       -1.04628317e+00, -6.59020810e-01, -6.13632421e-02, -3.10700311e-04])"
            ]
          },
          "metadata": {
            "tags": []
          },
          "execution_count": 19
        }
      ]
    },
    {
      "cell_type": "code",
      "metadata": {
        "id": "0XiHFPyNFU0H"
      },
      "source": [
        "# reshaping the data\r\n",
        "X1 = np.reshape(X1,( X1.shape[0], X1.shape[1], 1))\r\n"
      ],
      "execution_count": 20,
      "outputs": []
    },
    {
      "cell_type": "code",
      "metadata": {
        "colab": {
          "base_uri": "https://localhost:8080/"
        },
        "id": "IgToM5Y_Fx0n",
        "outputId": "51970389-e38b-4707-f1bd-0c3c70465109"
      },
      "source": [
        "X1.shape, Y1.shape"
      ],
      "execution_count": 21,
      "outputs": [
        {
          "output_type": "execute_result",
          "data": {
            "text/plain": [
              "((1048575, 16, 1), (1048575, 1))"
            ]
          },
          "metadata": {
            "tags": []
          },
          "execution_count": 21
        }
      ]
    },
    {
      "cell_type": "code",
      "metadata": {
        "id": "wE4Q9ukNFzum"
      },
      "source": [
        "#Importing convolutional layers\r\n",
        "\r\n",
        "from tensorflow.keras.layers import Convolution1D\r\n",
        "from tensorflow.keras.layers import MaxPooling1D, Flatten, Dense, Dropout, BatchNormalization, SpatialDropout1D\r\n",
        " \r\n",
        "from tensorflow.keras.metrics import categorical_crossentropy"
      ],
      "execution_count": 22,
      "outputs": []
    },
    {
      "cell_type": "code",
      "metadata": {
        "colab": {
          "base_uri": "https://localhost:8080/"
        },
        "id": "9eJeE3ajGGgj",
        "outputId": "228bb79e-8191-4a27-8a56-ddc7204884c4"
      },
      "source": [
        "classifier = Sequential()\r\n",
        "\r\n",
        "#Input shape must be explicitly defined, DO NOT USE (None,shape)!!!\r\n",
        "#1.Multiple convolution and max pooling\r\n",
        "classifier.add(Convolution1D(filters=64, kernel_size=3, activation=\"relu\", input_shape=(16,1)))\r\n",
        "classifier.add(BatchNormalization())\r\n",
        "classifier.add(Convolution1D(filters=64, kernel_size=3, activation='relu'))\r\n",
        "classifier.add(BatchNormalization( ))\r\n",
        "\r\n",
        "classifier.add(MaxPooling1D(pool_size=5, strides=1))\r\n",
        "classifier.add(BatchNormalization( ))\r\n",
        "\r\n",
        "\r\n",
        "classifier.add(Convolution1D(filters=128, kernel_size=3, activation='relu'))\r\n",
        "classifier.add(BatchNormalization( ))\r\n",
        "classifier.add(Convolution1D(filters=128, kernel_size=3, activation='relu'))\r\n",
        "classifier.add(BatchNormalization( ))\r\n",
        "\r\n",
        "classifier.add(MaxPooling1D(pool_size=4, strides=1))\r\n",
        "classifier.add(BatchNormalization( ))\r\n",
        "\r\n",
        "classifier.add(Flatten())\r\n",
        "\r\n",
        "classifier.add(Dropout(0.5))\r\n",
        "classifier.add(Dense(64, activation='relu'))\r\n",
        "classifier.add(Dropout(0.25))\r\n",
        "classifier.add(Dense(32, activation='relu'))\r\n",
        "classifier.add(Dropout(0.2))\r\n",
        "classifier.add(Dense(16, activation='relu'))\r\n",
        "classifier.add(Dense(12, activation='softmax'))\r\n",
        "\r\n",
        "\r\n",
        "# #Configure the learning process\r\n",
        "classifier.compile(Adam(learning_rate = 0.01), loss=\"sparse_categorical_crossentropy\", metrics=[\"accuracy\"])\r\n",
        "\r\n",
        "# #Train!\r\n",
        "classifier.fit(X1, Y1, batch_size=1024, epochs=20, shuffle = True, validation_split=0.05)"
      ],
      "execution_count": 23,
      "outputs": [
        {
          "output_type": "stream",
          "text": [
            "Epoch 1/20\n",
            "973/973 [==============================] - 19s 11ms/step - loss: 0.8281 - accuracy: 0.7381 - val_loss: 0.5347 - val_accuracy: 0.8297\n",
            "Epoch 2/20\n",
            "973/973 [==============================] - 10s 10ms/step - loss: 0.5291 - accuracy: 0.8311 - val_loss: 0.4703 - val_accuracy: 0.8432\n",
            "Epoch 3/20\n",
            "973/973 [==============================] - 10s 10ms/step - loss: 0.4796 - accuracy: 0.8463 - val_loss: 0.4325 - val_accuracy: 0.8561\n",
            "Epoch 4/20\n",
            "973/973 [==============================] - 10s 10ms/step - loss: 0.4594 - accuracy: 0.8519 - val_loss: 0.4313 - val_accuracy: 0.8597\n",
            "Epoch 5/20\n",
            "973/973 [==============================] - 10s 10ms/step - loss: 0.4431 - accuracy: 0.8565 - val_loss: 0.4054 - val_accuracy: 0.8673\n",
            "Epoch 6/20\n",
            "973/973 [==============================] - 10s 10ms/step - loss: 0.4326 - accuracy: 0.8605 - val_loss: 0.4031 - val_accuracy: 0.8647\n",
            "Epoch 7/20\n",
            "973/973 [==============================] - 10s 10ms/step - loss: 0.4211 - accuracy: 0.8639 - val_loss: 0.4270 - val_accuracy: 0.8561\n",
            "Epoch 8/20\n",
            "973/973 [==============================] - 10s 11ms/step - loss: 0.4136 - accuracy: 0.8660 - val_loss: 0.4115 - val_accuracy: 0.8659\n",
            "Epoch 9/20\n",
            "973/973 [==============================] - 10s 11ms/step - loss: 0.4067 - accuracy: 0.8678 - val_loss: 0.3734 - val_accuracy: 0.8766\n",
            "Epoch 10/20\n",
            "973/973 [==============================] - 10s 11ms/step - loss: 0.4036 - accuracy: 0.8685 - val_loss: 0.3664 - val_accuracy: 0.8771\n",
            "Epoch 11/20\n",
            "973/973 [==============================] - 10s 11ms/step - loss: 0.3999 - accuracy: 0.8699 - val_loss: 0.3799 - val_accuracy: 0.8724\n",
            "Epoch 12/20\n",
            "973/973 [==============================] - 10s 11ms/step - loss: 0.3937 - accuracy: 0.8719 - val_loss: 0.3958 - val_accuracy: 0.8685\n",
            "Epoch 13/20\n",
            "973/973 [==============================] - 10s 11ms/step - loss: 0.3896 - accuracy: 0.8729 - val_loss: 0.3673 - val_accuracy: 0.8767\n",
            "Epoch 14/20\n",
            "973/973 [==============================] - 10s 11ms/step - loss: 0.3890 - accuracy: 0.8728 - val_loss: 0.3934 - val_accuracy: 0.8664\n",
            "Epoch 15/20\n",
            "973/973 [==============================] - 10s 11ms/step - loss: 0.3854 - accuracy: 0.8736 - val_loss: 0.4038 - val_accuracy: 0.8660\n",
            "Epoch 16/20\n",
            "973/973 [==============================] - 10s 11ms/step - loss: 0.3811 - accuracy: 0.8759 - val_loss: 0.3698 - val_accuracy: 0.8769\n",
            "Epoch 17/20\n",
            "973/973 [==============================] - 10s 11ms/step - loss: 0.3832 - accuracy: 0.8753 - val_loss: 0.3710 - val_accuracy: 0.8792\n",
            "Epoch 18/20\n",
            "973/973 [==============================] - 10s 11ms/step - loss: 0.3802 - accuracy: 0.8765 - val_loss: 0.3645 - val_accuracy: 0.8833\n",
            "Epoch 19/20\n",
            "973/973 [==============================] - 10s 11ms/step - loss: 0.3759 - accuracy: 0.8771 - val_loss: 0.3470 - val_accuracy: 0.8807\n",
            "Epoch 20/20\n",
            "973/973 [==============================] - 10s 11ms/step - loss: 0.3729 - accuracy: 0.8779 - val_loss: 0.3445 - val_accuracy: 0.8831\n"
          ],
          "name": "stdout"
        },
        {
          "output_type": "execute_result",
          "data": {
            "text/plain": [
              "<tensorflow.python.keras.callbacks.History at 0x7f1250623860>"
            ]
          },
          "metadata": {
            "tags": []
          },
          "execution_count": 23
        }
      ]
    },
    {
      "cell_type": "code",
      "metadata": {
        "colab": {
          "base_uri": "https://localhost:8080/"
        },
        "id": "Ctkg7EJGHbZc",
        "outputId": "29eef885-9535-4b5d-9bb2-3a5513f1990f"
      },
      "source": [
        "classifier.summary()"
      ],
      "execution_count": 25,
      "outputs": [
        {
          "output_type": "stream",
          "text": [
            "Model: \"sequential\"\n",
            "_________________________________________________________________\n",
            "Layer (type)                 Output Shape              Param #   \n",
            "=================================================================\n",
            "conv1d (Conv1D)              (None, 14, 64)            256       \n",
            "_________________________________________________________________\n",
            "batch_normalization (BatchNo (None, 14, 64)            256       \n",
            "_________________________________________________________________\n",
            "conv1d_1 (Conv1D)            (None, 12, 64)            12352     \n",
            "_________________________________________________________________\n",
            "batch_normalization_1 (Batch (None, 12, 64)            256       \n",
            "_________________________________________________________________\n",
            "max_pooling1d (MaxPooling1D) (None, 8, 64)             0         \n",
            "_________________________________________________________________\n",
            "batch_normalization_2 (Batch (None, 8, 64)             256       \n",
            "_________________________________________________________________\n",
            "conv1d_2 (Conv1D)            (None, 6, 128)            24704     \n",
            "_________________________________________________________________\n",
            "batch_normalization_3 (Batch (None, 6, 128)            512       \n",
            "_________________________________________________________________\n",
            "conv1d_3 (Conv1D)            (None, 4, 128)            49280     \n",
            "_________________________________________________________________\n",
            "batch_normalization_4 (Batch (None, 4, 128)            512       \n",
            "_________________________________________________________________\n",
            "max_pooling1d_1 (MaxPooling1 (None, 1, 128)            0         \n",
            "_________________________________________________________________\n",
            "batch_normalization_5 (Batch (None, 1, 128)            512       \n",
            "_________________________________________________________________\n",
            "flatten (Flatten)            (None, 128)               0         \n",
            "_________________________________________________________________\n",
            "dropout (Dropout)            (None, 128)               0         \n",
            "_________________________________________________________________\n",
            "dense (Dense)                (None, 64)                8256      \n",
            "_________________________________________________________________\n",
            "dropout_1 (Dropout)          (None, 64)                0         \n",
            "_________________________________________________________________\n",
            "dense_1 (Dense)              (None, 32)                2080      \n",
            "_________________________________________________________________\n",
            "dropout_2 (Dropout)          (None, 32)                0         \n",
            "_________________________________________________________________\n",
            "dense_2 (Dense)              (None, 16)                528       \n",
            "_________________________________________________________________\n",
            "dense_3 (Dense)              (None, 12)                204       \n",
            "=================================================================\n",
            "Total params: 99,964\n",
            "Trainable params: 98,812\n",
            "Non-trainable params: 1,152\n",
            "_________________________________________________________________\n"
          ],
          "name": "stdout"
        }
      ]
    },
    {
      "cell_type": "code",
      "metadata": {
        "id": "zK_FpwVuHd1l"
      },
      "source": [
        ""
      ],
      "execution_count": null,
      "outputs": []
    }
  ]
}